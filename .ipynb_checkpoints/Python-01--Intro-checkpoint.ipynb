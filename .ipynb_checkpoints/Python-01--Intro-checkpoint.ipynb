{
 "cells": [
  {
   "cell_type": "markdown",
   "metadata": {
    "slideshow": {
     "slide_type": "slide"
    }
   },
   "source": [
    "# PICSciE Introduction to Python\n",
    "## CEE306, Spring 2022\n",
    "\n",
    "<img src=\"./media/grad_simon.jpg\" align=\"left\" width=\"200px\"/>\n",
    "\n",
    "      Simon Bilodeau\n",
    "      Ph.D. Candidate\n",
    "      Electrical and Computer Engineering\n",
    "      sbilodeau@princeton.edu\n",
    "      \n",
    "<br clear=\"left\"/>\n",
    "\n",
    "<img src=\"./media/grad_hayk.jpg\" align=\"left\" width=\"200px\"/>\n",
    "\n",
    "      Hayk Hakobyan\n",
    "      Associate Research Physicist\n",
    "      Computational Science, Princeton Plasma Physics Laboratory.\n",
    "      hakobyan@princeton.edu\n",
    "      \n",
    "<br clear=\"left\"/>\n",
    "\n",
    "Sources for the material:\n",
    "\n",
    "- Matthew Cahn's (OIT Research Computing / Department of Molecular Biology) Python tutorial: https://github.com/mcahn/Intro-to-Python/tree/master\n",
    "- Pandas cookbook: https://github.com/jvns/pandas-cookbook\n",
    "\n",
    "Acknowledgements:\n",
    "\n",
    "- Ma. Florevel (Floe) Fusin-Wischusen\n",
    "- PICSciE -- The Princeton Institute for Computational Science and Engineering"
   ]
  },
  {
   "cell_type": "markdown",
   "metadata": {
    "slideshow": {
     "slide_type": "slide"
    }
   },
   "source": [
    "## Quick poll:\n",
    "\n",
    "This class does not require any background knowledge, and you will be able to use myAdroit with all requisite software already installed to do everything.\n",
    "\n",
    "I would still like to get an idea of the level of programming background. How many of you:\n",
    "\n",
    "General programming:\n",
    "\n",
    "* Have programmed in any language (Matlab counts)?\n",
    "* Have used a terminal?\n",
    "* Have installed a programming language (or other software) using a package manager (e.g. `apt` on Ubuntu, `brew` on MacOS)?\n",
    "* Have used version control (e.g. `git`)?\n",
    "* Have built software from source?\n",
    "\n",
    "Python:\n",
    "\n",
    "* Have programmed in Python?\n",
    "* Have used iPython notebooks?\n",
    "* Have used Python package managers (pip, conda)?\n",
    "* Have installed Python packages from source (e.g. git repo)?\n",
    "* Have contributed to open-source Python projects?\n",
    "\n",
    "Do the words below mean anything to you?\n",
    "\n",
    "* Variable\n",
    "* Int/float\n",
    "* string\n",
    "* Arrays\n",
    "* if/else\n",
    "* Control flow (for loops, while loops, etc.)\n",
    "* Functions\n",
    "* Classes, attributes, and methods"
   ]
  },
  {
   "cell_type": "markdown",
   "metadata": {
    "slideshow": {
     "slide_type": "slide"
    }
   },
   "source": [
    "## Outline\n",
    "\n",
    "### 01-27-22 (today, Simon)\n",
    "\n",
    "* Python\n",
    "    * Brief intro, why you should care\n",
    "    * How we will use it (Jupyter Notebooks)\n",
    "    * Concept of modules\n",
    "* Fundamentals of programming\n",
    "    * Variables\n",
    "    * Basic operations   \n",
    "    * Lists, Tuples, Dictionaries\n",
    "    * Control flow\n",
    "    * Functions\n",
    "    * Objects, modules\n",
    "* pandas: Python Data Analysis Library (introduction)\n",
    "    * Reading files with pandas\n",
    "    * Dataframes and dataframe manipulation\n",
    "    * Basic built-in plotting\n",
    "\n",
    "### 02-03-22 (next week, Hayk)\n",
    "\n",
    "* More basics\n",
    "    * Iterables: Lists, Tuples, Dictionaries\n",
    "\n",
    "* NumPy: Scientific Computing with Python (introduction)\n",
    "    * Arrays, indexing, slicing\n",
    "    * Common numpy functions, usefulness over for loops\n",
    "    * Where to find help with numpy\n",
    "\n",
    "* Matplotlib: Visualization with Python\n",
    "    * Simple plots, standard set of kwargs, customizing plots\n",
    "    * More complex plots\n",
    "    * Where to find info about matplotlib\n",
    "    \n",
    "* (if time allows) Interactive plotting (bokeh/holoviews).\n"
   ]
  },
  {
   "cell_type": "markdown",
   "metadata": {
    "slideshow": {
     "slide_type": "slide"
    }
   },
   "source": [
    "## What is Python?\n",
    "\n",
    "* An interpreted, object-oriented, high-level programming language with dynamic semantics\n",
    "    * Interpreted: no compilation necessary, converted to machine code at runtime by Python interpreter\n",
    "    * Object-oriented: elements of code are \"objects\" instead of raw logic, functions, etc.\n",
    "    * High-level: closer to human language than machine language, where you have to worry about *e.g.* variable types, memory allocation, etc.\n",
    "    * Dynamic semantics: variables are dynamic objects\n",
    "* Initially created in the late 80s, now on versions >3.9\n",
    "\n",
    " ![Python logo](./media/python-logo-master-v3-TM-flattened.png)"
   ]
  },
  {
   "cell_type": "markdown",
   "metadata": {
    "slideshow": {
     "slide_type": "slide"
    }
   },
   "source": [
    "## Why use Python?\n",
    "\n",
    " ![Python on Github](./media/github_chart.png)\n",
    " Source: https://octoverse.github.com/"
   ]
  },
  {
   "cell_type": "markdown",
   "metadata": {
    "slideshow": {
     "slide_type": "subslide"
    }
   },
   "source": [
    "## Why use Python?\n",
    "\n",
    " ![Python on StackOverflow](./media/stackoverflow_chart.png)\n",
    "\n",
    " Source: https://insights.stackoverflow.com/trends?tags=r%2Cpython%2Cjavascript%2Cjava%2Cc%2B%2B%2Cc%23%2Crust%2Cgo%2Cbash%2Cobjective-c%2Cscala%2Cswift%2Cshell%2Ctypescript%2Ccss"
   ]
  },
  {
   "cell_type": "markdown",
   "metadata": {
    "slideshow": {
     "slide_type": "subslide"
    }
   },
   "source": [
    "## Why use Python\n",
    "\n",
    "Frameworks and packages build onto base Python:\n",
    "\n",
    " ![Ecosystem](./media/python-stack.png)\n",
    "Source: https://jupytearth.org/jupyter-resources/introduction/ecosystem.html"
   ]
  },
  {
   "cell_type": "markdown",
   "metadata": {
    "slideshow": {
     "slide_type": "subslide"
    }
   },
   "source": [
    "## Why use Python?\n",
    "\n",
    "* Simplicity\n",
    "    * Simple syntax\n",
    "    * Code easy to read\n",
    "    * Multi-platform\n",
    "* Very large community\n",
    "    * Top 2 on Github (code repository website)\n",
    "    * Top on Stack Overflow (Q&A website)\n",
    "    * Corporate support: Google, Microsoft, Facebook, etc.\n",
    "* Modular\n",
    "    * Hundreds of (open-source) frameworks and libraries you can use right away\n",
    "        * See for instance https://github.com/vinta/awesome-python\n",
    "    * Can call other programs *e.g.* from other languages with different strengths\n",
    "\n",
    "**There are lots of ressources!**\n",
    "\n",
    "### Online\n",
    "\n",
    "* Google is a good first step for tutorials, documentation, or troubleshooting\n",
    "* This site has examples that you can experiment with online:  https://www.w3schools.com/python/\n",
    "\n",
    "### Books\n",
    "\n",
    "- Available for free, online, on Princeton's Safari book service:\n",
    "- To find these:\n",
    "\n",
    "  - Visit: https://library.princeton.edu/resource/4063\n",
    "  - Click \"Access Resource\".\n",
    "  - Search for the book title.\n",
    "\n",
    "**Introducing Python, 2nd Edition, Bill Lubanovic**\n",
    "\n",
    "**Python for Data Analysis, 2nd Edition, Wes McKinney, O'Reilly Media, Inc.**\n"
   ]
  }
 ],
 "metadata": {
  "celltoolbar": "Slideshow",
  "kernelspec": {
   "display_name": "Python 3",
   "language": "python",
   "name": "python3"
  },
  "language_info": {
   "codemirror_mode": {
    "name": "ipython",
    "version": 3
   },
   "file_extension": ".py",
   "mimetype": "text/x-python",
   "name": "python",
   "nbconvert_exporter": "python",
   "pygments_lexer": "ipython3",
   "version": "3.6.8"
  }
 },
 "nbformat": 4,
 "nbformat_minor": 2
}
