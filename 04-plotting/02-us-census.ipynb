{
 "cells": [
  {
   "cell_type": "code",
   "execution_count": 1,
   "metadata": {},
   "outputs": [],
   "source": [
    "import pandas as pd\n",
    "import numpy as np\n",
    "import matplotlib.pyplot as plt\n",
    "\n",
    "data = pd.read_csv(\"SUB-EST2020_ALL.csv\",\n",
    "                   delimiter=',', encoding='ISO-8859-1')"
   ]
  },
  {
   "cell_type": "markdown",
   "metadata": {},
   "source": [
    "This `data` contains some of the collected 2020 US Census data divided by towns/districts/states etc.\n",
    "\n",
    "#### Description of columns (that will be useful further)\n",
    "\n",
    "1. `SUMLEV`: classifies the geographic area where the population measurement is estimated:\n",
    "    * `40` = state;\n",
    "    * `157` = town/city;\n",
    "\n",
    "2. `POPESTIMATE2020`: estimate of the population within a given geographic area as of 2020;\n",
    "\n",
    "3. `CENSUS2010POP`: population within a given geographic area from a 2010 Census.\n",
    "\n",
    "*Warning:* `CENSUS2010POP` is a column of strings (texts, not numbers), so needs conversion!"
   ]
  },
  {
   "cell_type": "markdown",
   "metadata": {},
   "source": [
    "## Tasks"
   ]
  },
  {
   "cell_type": "markdown",
   "metadata": {},
   "source": [
    "1. Make sure that `SUMLEV == 40` indeed corresponds to state-wide population estimates.\n",
    "\n",
    "    *Hint:* how many rows are there with `SUMLEV == 40`?"
   ]
  },
  {
   "cell_type": "markdown",
   "metadata": {},
   "source": [
    "2. Which state has the highest/lowest population estimate (by 2020)? \n",
    "  \n",
    "    *Bonus:* which state is the most average (in terms of population)?"
   ]
  },
  {
   "cell_type": "markdown",
   "metadata": {},
   "source": [
    "3. Make a barplot with the top 13 highest population states. Think about how one can compare 2020 vs 2010 on a single graph."
   ]
  },
  {
   "cell_type": "markdown",
   "metadata": {},
   "source": [
    "4. Which states have the highest population growth rate? Make a proper plot to highlight the differences."
   ]
  },
  {
   "cell_type": "markdown",
   "metadata": {},
   "source": [
    "5. What is the average town/city(`SUMLEV == 157`) population (take 2020 data)?\n"
   ]
  },
  {
   "cell_type": "markdown",
   "metadata": {},
   "source": [
    "6. What's the distribution of towns/cities by population? Which function best describes that distribution for cities with population > 10000? \n",
    "\n",
    "    *Hint:* `np.polyfit` might be a useful function to use."
   ]
  },
  {
   "cell_type": "markdown",
   "metadata": {},
   "source": [
    "7. *Bonus objective irrelevant to this class:* think about why the distribution is what it is? Is there a simple explanation?"
   ]
  }
 ],
 "metadata": {
  "interpreter": {
   "hash": "3fd498fd3bb063058b77bda127638628872f97615736190a434d9fc73ad00026"
  },
  "kernelspec": {
   "display_name": "Python 3.9.10 ('jupyter')",
   "language": "python",
   "name": "python3"
  },
  "language_info": {
   "codemirror_mode": {
    "name": "ipython",
    "version": 3
   },
   "file_extension": ".py",
   "mimetype": "text/x-python",
   "name": "python",
   "nbconvert_exporter": "python",
   "pygments_lexer": "ipython3",
   "version": "3.9.10"
  },
  "orig_nbformat": 4
 },
 "nbformat": 4,
 "nbformat_minor": 2
}
