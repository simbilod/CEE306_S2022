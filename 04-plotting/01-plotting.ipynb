{
 "cells": [
  {
   "cell_type": "code",
   "execution_count": null,
   "metadata": {},
   "outputs": [],
   "source": [
    "import numpy as np\n",
    "import matplotlib.pyplot as plt"
   ]
  },
  {
   "cell_type": "markdown",
   "metadata": {},
   "source": [
    "## Getting started"
   ]
  },
  {
   "cell_type": "code",
   "execution_count": null,
   "metadata": {},
   "outputs": [],
   "source": [
    "x = np.linspace(0, 4 * np.pi, 250)\n",
    "y = np.arcsin(np.cos(x))\n",
    "\n",
    "plt.plot(x, y)"
   ]
  },
  {
   "cell_type": "code",
   "execution_count": null,
   "metadata": {},
   "outputs": [],
   "source": [
    "ix = np.random.randn(100)     # Gaussian distribution\n",
    "iy = np.random.randn(100)     # Gaussian distribution\n",
    "\n",
    "plt.scatter(ix, iy)"
   ]
  },
  {
   "cell_type": "code",
   "execution_count": null,
   "metadata": {},
   "outputs": [],
   "source": [
    "# make a two-dimensional grid of points (x, y)\n",
    "x, y = np.mgrid[-1:1:0.005, -1:1:0.005]\n",
    "# compute a bell curve (gaussian curve) at each point (x, y)\n",
    "z = np.exp(-(x ** 2 + y ** 2))\n",
    "\n",
    "# plot z as a color (heatmap)\n",
    "# ... with x and y axes\n",
    "plt.pcolor(x, y, z)\n",
    "# add a colorbar for z\n",
    "plt.colorbar()\n",
    "\n",
    "# *** best practice ***: this function (pcolor) can be very slow for high resolution grids... (if we have time) i will show how to do this much faster\n"
   ]
  },
  {
   "cell_type": "code",
   "execution_count": null,
   "metadata": {},
   "outputs": [],
   "source": [
    "x, y = np.mgrid[-1:1:0.005, -1:1:0.005]\n",
    "z = np.exp(-(x ** 2 + y ** 2))\n",
    "\n",
    "plt.contourf(x, y, z)\n",
    "plt.colorbar()"
   ]
  },
  {
   "cell_type": "markdown",
   "metadata": {},
   "source": [
    "## Customizing pt. 1"
   ]
  },
  {
   "cell_type": "markdown",
   "metadata": {},
   "source": [
    "keyword arguments (kwargs)"
   ]
  },
  {
   "cell_type": "code",
   "execution_count": null,
   "metadata": {},
   "outputs": [],
   "source": [
    "x = np.linspace(0, 4 * np.pi, 10)\n",
    "y = np.arcsin(np.cos(x))\n",
    "\n",
    "#       use red circles + dashed lines\n",
    "#                ↓\n",
    "#              -----\n",
    "plt.plot(x, y, 'ro--')"
   ]
  },
  {
   "cell_type": "code",
   "execution_count": null,
   "metadata": {},
   "outputs": [],
   "source": [
    "ix = np.random.randn(100)     # Gaussian distribution\n",
    "iy = np.random.randn(100)     # Gaussian distribution\n",
    "\n",
    "# standard color sequence:\n",
    "# C0, C1, C2, C3, C4, C5, C6, C7, C8, C9\n",
    "\n",
    "#                 specifying color        size\n",
    "#                       ↓                  ↓\n",
    "#                     ----                --\n",
    "plt.scatter(ix, iy, c='C2', ec='black', s=40)\n",
    "#                              -------\n",
    "#                                  ↑\n",
    "#                              edgecolor\n",
    "\n",
    "# many more keyword arguments (kwargs): https://matplotlib.org/devdocs/api/_as_gen/matplotlib.pyplot.plot.html"
   ]
  },
  {
   "cell_type": "code",
   "execution_count": null,
   "metadata": {},
   "outputs": [],
   "source": [
    "x, y = np.mgrid[-1:1:0.1, -1:1:0.1]\n",
    "z = np.exp(-(x ** 2 + y ** 2))\n",
    "\n",
    "#                   colormap (default: `viridis`)         edges properties (default: no edges)\n",
    "#                           ↓                                ↓                ↓\n",
    "#                         -----                           -------            ----\n",
    "plt.pcolor(x, y, z, cmap='turbo', vmin=-0.5, vmax=0.8, ec='white', linewidth=0.01)\n",
    "#                                     -----       ---\n",
    "#                                       ↑          ↑\n",
    "#                              specifying min and max of colorbar (default: min and max of data)\n",
    "plt.colorbar()\n",
    "\n",
    "# colormap options: https://matplotlib.org/stable/tutorials/colors/colormaps.html"
   ]
  },
  {
   "cell_type": "code",
   "execution_count": null,
   "metadata": {},
   "outputs": [],
   "source": [
    "x, y = np.mgrid[-1:1:0.005, -1:1:0.005]\n",
    "z = np.exp(-(x ** 2 + y ** 2))\n",
    "\n",
    "#                      explicitly specifying levels of z where contours are\n",
    "#                                      ↓\n",
    "#                           ----------------------\n",
    "plt.contour(x, y, z, levels=np.linspace(-1, 1, 25), cmap='Blues')\n",
    "plt.colorbar()"
   ]
  },
  {
   "cell_type": "markdown",
   "metadata": {},
   "source": [
    "## Customizing pt. 2"
   ]
  },
  {
   "cell_type": "markdown",
   "metadata": {},
   "source": [
    "1. accessing axes *(this is a \"best practice\")*"
   ]
  },
  {
   "cell_type": "code",
   "execution_count": null,
   "metadata": {},
   "outputs": [],
   "source": [
    "# create a figure and build axes (a/k/a subplot)\n",
    "fig, ax = plt.subplots(figsize=(8, 6))\n",
    "#                               ----\n",
    "#                                 ↑\n",
    "#                     size of the figure in inches (by default 100 pixels per inch, so this is 800 x 600)\n",
    "\n",
    "# can also be done via:\n",
    "#   fig = plt.figure(figsize=(8, 6))\n",
    "#   ax = fig.add_subplot(111)"
   ]
  },
  {
   "cell_type": "code",
   "execution_count": null,
   "metadata": {},
   "outputs": [],
   "source": [
    "fig, ax = plt.subplots(figsize=(6, 4), dpi=300)\n",
    "#                                          ---\n",
    "#                                           ↑\n",
    "#                                  publication quality (300+ dpi)\n",
    "\n",
    "# *** best practice ***: if this goes in the letter-size paper: aim for 8 inches in horizontal (full page paper) and 300+ ppi\n",
    "\n",
    "x = np.linspace(0, 4 * np.pi, 250)\n",
    "y = np.arcsin(np.cos(x))\n",
    "\n",
    "# notice `ax.plot` here\n",
    "ax.plot(x, y, 'C2--')"
   ]
  },
  {
   "cell_type": "markdown",
   "metadata": {},
   "source": [
    "2. axes limits/labels/ticks"
   ]
  },
  {
   "cell_type": "code",
   "execution_count": null,
   "metadata": {},
   "outputs": [],
   "source": [
    "fig, ax = plt.subplots(figsize=(4, 6), dpi=120)\n",
    "\n",
    "ix = np.random.randn(100)     # Gaussian distribution\n",
    "iy = np.random.randn(100)     # Gaussian distribution\n",
    "\n",
    "# notice `ax.plot` here\n",
    "ax.scatter(ix, iy)\n",
    "\n",
    "# *** best practice ***: always set aspect to 1 if two axes are conceptually related quantities\n",
    "ax.set_aspect(1)\n",
    "\n",
    "# axes limits\n",
    "ax.set_xlim(-4, 4)\n",
    "ax.set_ylim(-5, 5)\n",
    "\n",
    "# axes labels\n",
    "ax.set_xlabel(\"some x\")\n",
    "ax.set_ylabel(\"some other y\")\n",
    "\n",
    "# axes ticks (rarely used)\n",
    "ax.set_xticks([-3, -1, 1, 3])\n",
    "ax.set_xticklabels([\"a\", \"b\", \"c\", \"d\"])\n"
   ]
  },
  {
   "cell_type": "code",
   "execution_count": null,
   "metadata": {},
   "outputs": [],
   "source": [
    "# it's actually better to use logarithmically spaced x\n",
    "x = np.linspace(10, 100, 5)\n",
    "# x = 10 ** np.linspace(1, 2, 5)\n",
    "# x = np.logspace(1, 2, 5)\n",
    "\n",
    "y = np.exp(-x)\n",
    "\n",
    "plt.plot(x, y)\n",
    "\n",
    "# log-log scale\n",
    "plt.xscale('log')\n",
    "plt.yscale('log')"
   ]
  },
  {
   "cell_type": "code",
   "execution_count": null,
   "metadata": {},
   "outputs": [],
   "source": [
    "fig, ax = plt.subplots(figsize=(6, 6))\n",
    "x, y = np.mgrid[-1:1:0.005, -1:1:0.005]\n",
    "z = np.exp(-(x ** 2 + y ** 2))\n",
    "\n",
    "ax.set_aspect(1)\n",
    "img = ax.pcolor(x, y, z)\n",
    "#                       colorbars can (should) have labels!\n",
    "#                                 ↓\n",
    "#                        -------------------\n",
    "plt.colorbar(img, label=\"$\\exp(-x^2 - y^2)$\")\n",
    "#            ---\n",
    "#             ↑\n",
    "#    need to explicity specify the \"object\"\n"
   ]
  },
  {
   "cell_type": "markdown",
   "metadata": {},
   "source": [
    "Mixing `matplotlib` with `pandas`."
   ]
  },
  {
   "cell_type": "code",
   "execution_count": null,
   "metadata": {},
   "outputs": [],
   "source": [
    "import pandas as pd\n",
    "\n",
    "x = np.linspace(0, 4 * np.pi, 250)\n",
    "y = np.arcsin(np.cos(x))\n",
    "ix = np.random.randn(250)\n",
    "iy = np.random.randn(250)\n",
    "df = pd.DataFrame({'x-value': x, 'y-value': y, 'a-value': ix, 'b-value': iy})"
   ]
  },
  {
   "cell_type": "code",
   "execution_count": null,
   "metadata": {},
   "outputs": [],
   "source": [
    "df.plot('x-value', 'y-value')"
   ]
  },
  {
   "cell_type": "code",
   "execution_count": null,
   "metadata": {},
   "outputs": [],
   "source": [
    "df.plot.scatter('a-value', 'b-value')"
   ]
  },
  {
   "cell_type": "markdown",
   "metadata": {},
   "source": [
    "### Best practices\n",
    "\n",
    "1. Always use `set_aspect(1)` if `x` and `y` have the same conceptual meaning (e.g., same physical units);\n",
    "2. label the axes;\n",
    "3. keep plots simple and informative: if you can remove some feature (e.g., edges of points, dashing of the line, etc) and it still makes total sense -- then remove it;\n",
    "4. keep sizes of ticks and labels reasonably large/small (1/5-1/6 of the whole figure);\n",
    "5. use the right plot to send the message (e.g., barplot vs scatter, scatter vs plot, contour vs pcolor, etc);\n",
    "6. choose the proper colormap (e.g., diverging vs non-diverging).\n",
    "\n",
    "For more conceptual advices see Tufte's \"The Visual Display of Quantitative Information\" 1983 book."
   ]
  }
 ],
 "metadata": {
  "interpreter": {
   "hash": "3fd498fd3bb063058b77bda127638628872f97615736190a434d9fc73ad00026"
  },
  "kernelspec": {
   "display_name": "Python 3.9.10 ('jupyter')",
   "language": "python",
   "name": "python3"
  },
  "language_info": {
   "codemirror_mode": {
    "name": "ipython",
    "version": 3
   },
   "file_extension": ".py",
   "mimetype": "text/x-python",
   "name": "python",
   "nbconvert_exporter": "python",
   "pygments_lexer": "ipython3",
   "version": "3.9.10"
  },
  "orig_nbformat": 4
 },
 "nbformat": 4,
 "nbformat_minor": 2
}
