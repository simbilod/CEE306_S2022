{
 "cells": [
  {
   "cell_type": "code",
   "execution_count": 1,
   "metadata": {},
   "outputs": [],
   "source": [
    "import pandas as pd\n",
    "import numpy as np\n",
    "import matplotlib.pyplot as plt\n",
    "from scipy.optimize import curve_fit\n",
    "\n",
    "data = pd.read_csv(\"~/Desktop/SUB-EST2020_ALL.csv\",\n",
    "                   delimiter=',', encoding='ISO-8859-1')"
   ]
  },
  {
   "cell_type": "code",
   "execution_count": 2,
   "metadata": {},
   "outputs": [
    {
     "data": {
      "text/html": [
       "<div>\n",
       "<style scoped>\n",
       "    .dataframe tbody tr th:only-of-type {\n",
       "        vertical-align: middle;\n",
       "    }\n",
       "\n",
       "    .dataframe tbody tr th {\n",
       "        vertical-align: top;\n",
       "    }\n",
       "\n",
       "    .dataframe thead th {\n",
       "        text-align: right;\n",
       "    }\n",
       "</style>\n",
       "<table border=\"1\" class=\"dataframe\">\n",
       "  <thead>\n",
       "    <tr style=\"text-align: right;\">\n",
       "      <th></th>\n",
       "      <th>SUMLEV</th>\n",
       "      <th>STATE</th>\n",
       "      <th>COUNTY</th>\n",
       "      <th>PLACE</th>\n",
       "      <th>COUSUB</th>\n",
       "      <th>CONCIT</th>\n",
       "      <th>PRIMGEO_FLAG</th>\n",
       "      <th>FUNCSTAT</th>\n",
       "      <th>NAME</th>\n",
       "      <th>STNAME</th>\n",
       "      <th>...</th>\n",
       "      <th>POPESTIMATE2012</th>\n",
       "      <th>POPESTIMATE2013</th>\n",
       "      <th>POPESTIMATE2014</th>\n",
       "      <th>POPESTIMATE2015</th>\n",
       "      <th>POPESTIMATE2016</th>\n",
       "      <th>POPESTIMATE2017</th>\n",
       "      <th>POPESTIMATE2018</th>\n",
       "      <th>POPESTIMATE2019</th>\n",
       "      <th>POPESTIMATE042020</th>\n",
       "      <th>POPESTIMATE2020</th>\n",
       "    </tr>\n",
       "  </thead>\n",
       "  <tbody>\n",
       "    <tr>\n",
       "      <th>0</th>\n",
       "      <td>40</td>\n",
       "      <td>1</td>\n",
       "      <td>0</td>\n",
       "      <td>0</td>\n",
       "      <td>0</td>\n",
       "      <td>0</td>\n",
       "      <td>0</td>\n",
       "      <td>A</td>\n",
       "      <td>Alabama</td>\n",
       "      <td>Alabama</td>\n",
       "      <td>...</td>\n",
       "      <td>4816632</td>\n",
       "      <td>4831586</td>\n",
       "      <td>4843737</td>\n",
       "      <td>4854803</td>\n",
       "      <td>4866824</td>\n",
       "      <td>4877989</td>\n",
       "      <td>4891628</td>\n",
       "      <td>4907965</td>\n",
       "      <td>4920706</td>\n",
       "      <td>4921532</td>\n",
       "    </tr>\n",
       "    <tr>\n",
       "      <th>1</th>\n",
       "      <td>162</td>\n",
       "      <td>1</td>\n",
       "      <td>0</td>\n",
       "      <td>124</td>\n",
       "      <td>0</td>\n",
       "      <td>0</td>\n",
       "      <td>0</td>\n",
       "      <td>A</td>\n",
       "      <td>Abbeville city</td>\n",
       "      <td>Alabama</td>\n",
       "      <td>...</td>\n",
       "      <td>2645</td>\n",
       "      <td>2629</td>\n",
       "      <td>2610</td>\n",
       "      <td>2602</td>\n",
       "      <td>2587</td>\n",
       "      <td>2578</td>\n",
       "      <td>2565</td>\n",
       "      <td>2555</td>\n",
       "      <td>2555</td>\n",
       "      <td>2553</td>\n",
       "    </tr>\n",
       "    <tr>\n",
       "      <th>2</th>\n",
       "      <td>162</td>\n",
       "      <td>1</td>\n",
       "      <td>0</td>\n",
       "      <td>460</td>\n",
       "      <td>0</td>\n",
       "      <td>0</td>\n",
       "      <td>0</td>\n",
       "      <td>A</td>\n",
       "      <td>Adamsville city</td>\n",
       "      <td>Alabama</td>\n",
       "      <td>...</td>\n",
       "      <td>4453</td>\n",
       "      <td>4430</td>\n",
       "      <td>4399</td>\n",
       "      <td>4371</td>\n",
       "      <td>4335</td>\n",
       "      <td>4304</td>\n",
       "      <td>4285</td>\n",
       "      <td>4254</td>\n",
       "      <td>4224</td>\n",
       "      <td>4211</td>\n",
       "    </tr>\n",
       "    <tr>\n",
       "      <th>3</th>\n",
       "      <td>162</td>\n",
       "      <td>1</td>\n",
       "      <td>0</td>\n",
       "      <td>484</td>\n",
       "      <td>0</td>\n",
       "      <td>0</td>\n",
       "      <td>0</td>\n",
       "      <td>A</td>\n",
       "      <td>Addison town</td>\n",
       "      <td>Alabama</td>\n",
       "      <td>...</td>\n",
       "      <td>745</td>\n",
       "      <td>744</td>\n",
       "      <td>742</td>\n",
       "      <td>734</td>\n",
       "      <td>734</td>\n",
       "      <td>728</td>\n",
       "      <td>725</td>\n",
       "      <td>723</td>\n",
       "      <td>719</td>\n",
       "      <td>717</td>\n",
       "    </tr>\n",
       "    <tr>\n",
       "      <th>4</th>\n",
       "      <td>162</td>\n",
       "      <td>1</td>\n",
       "      <td>0</td>\n",
       "      <td>676</td>\n",
       "      <td>0</td>\n",
       "      <td>0</td>\n",
       "      <td>0</td>\n",
       "      <td>A</td>\n",
       "      <td>Akron town</td>\n",
       "      <td>Alabama</td>\n",
       "      <td>...</td>\n",
       "      <td>347</td>\n",
       "      <td>344</td>\n",
       "      <td>338</td>\n",
       "      <td>338</td>\n",
       "      <td>335</td>\n",
       "      <td>332</td>\n",
       "      <td>332</td>\n",
       "      <td>328</td>\n",
       "      <td>328</td>\n",
       "      <td>327</td>\n",
       "    </tr>\n",
       "  </tbody>\n",
       "</table>\n",
       "<p>5 rows × 24 columns</p>\n",
       "</div>"
      ],
      "text/plain": [
       "   SUMLEV  STATE  COUNTY  PLACE  COUSUB  CONCIT  PRIMGEO_FLAG FUNCSTAT  \\\n",
       "0      40      1       0      0       0       0             0        A   \n",
       "1     162      1       0    124       0       0             0        A   \n",
       "2     162      1       0    460       0       0             0        A   \n",
       "3     162      1       0    484       0       0             0        A   \n",
       "4     162      1       0    676       0       0             0        A   \n",
       "\n",
       "              NAME   STNAME  ... POPESTIMATE2012  POPESTIMATE2013  \\\n",
       "0          Alabama  Alabama  ...         4816632          4831586   \n",
       "1   Abbeville city  Alabama  ...            2645             2629   \n",
       "2  Adamsville city  Alabama  ...            4453             4430   \n",
       "3     Addison town  Alabama  ...             745              744   \n",
       "4       Akron town  Alabama  ...             347              344   \n",
       "\n",
       "   POPESTIMATE2014  POPESTIMATE2015  POPESTIMATE2016  POPESTIMATE2017  \\\n",
       "0          4843737          4854803          4866824          4877989   \n",
       "1             2610             2602             2587             2578   \n",
       "2             4399             4371             4335             4304   \n",
       "3              742              734              734              728   \n",
       "4              338              338              335              332   \n",
       "\n",
       "   POPESTIMATE2018  POPESTIMATE2019  POPESTIMATE042020  POPESTIMATE2020  \n",
       "0          4891628          4907965            4920706          4921532  \n",
       "1             2565             2555               2555             2553  \n",
       "2             4285             4254               4224             4211  \n",
       "3              725              723                719              717  \n",
       "4              332              328                328              327  \n",
       "\n",
       "[5 rows x 24 columns]"
      ]
     },
     "execution_count": 2,
     "metadata": {},
     "output_type": "execute_result"
    }
   ],
   "source": [
    "data.head()"
   ]
  },
  {
   "cell_type": "code",
   "execution_count": 58,
   "metadata": {},
   "outputs": [
    {
     "data": {
      "image/png": "[encoded data removed]",
      "text/plain": [
       "<Figure size 432x288 with 1 Axes>"
      ]
     },
     "metadata": {
      "needs_background": "light"
     },
     "output_type": "display_data"
    }
   ],
   "source": [
    "data[data['SUMLEV'] == 157]['POPESTIMATE2020'].plot.hist(bins=np.logspace(3, 8, 25))\n",
    "plt.xscale('log')\n",
    "plt.yscale('log')\n"
   ]
  },
  {
   "cell_type": "code",
   "execution_count": 56,
   "metadata": {},
   "outputs": [],
   "source": [
    "count, bins = np.histogram(data[data['SUMLEV'] == 157]['POPESTIMATE2020'], bins=np.logspace(3, 8, 25))"
   ]
  },
  {
   "cell_type": "code",
   "execution_count": 72,
   "metadata": {},
   "outputs": [
    {
     "name": "stdout",
     "output_type": "stream",
     "text": [
      "-1.0891506842446685\n"
     ]
    },
    {
     "data": {
      "text/plain": [
       "<matplotlib.legend.Legend at 0x13ad91790>"
      ]
     },
     "execution_count": 72,
     "metadata": {},
     "output_type": "execute_result"
    },
    {
     "data": {
      "image/png": "[encoded data removed]",
      "text/plain": [
       "<Figure size 432x288 with 1 Axes>"
      ]
     },
     "metadata": {
      "needs_background": "light"
     },
     "output_type": "display_data"
    }
   ],
   "source": [
    "x = bins[:-1]\n",
    "y = count\n",
    "\n",
    "plt.plot(x, y, label='US data')\n",
    "plt.xscale('log')\n",
    "plt.yscale('log')\n",
    "\n",
    "def fit(x, a, k):\n",
    "  return k * x**a\n",
    "popt, pcov = curve_fit(fit, x[x > 1e5], y[x > 1e5])\n",
    "\n",
    "x_new = np.logspace(4, 6, 100)\n",
    "y_new = fit(x_new, *popt)\n",
    "\n",
    "print (popt[0])\n",
    "\n",
    "plt.plot(x_new, y_new, label=f'fit, $x^{{{popt[0]:.2f}}}$')\n",
    "\n",
    "plt.xlabel('population')\n",
    "plt.ylabel('number of cities/towns')\n",
    "plt.legend()"
   ]
  },
  {
   "cell_type": "code",
   "execution_count": 41,
   "metadata": {},
   "outputs": [],
   "source": []
  },
  {
   "cell_type": "code",
   "execution_count": 42,
   "metadata": {},
   "outputs": [],
   "source": []
  },
  {
   "cell_type": "code",
   "execution_count": 44,
   "metadata": {},
   "outputs": [
    {
     "data": {
      "text/plain": [
       "-0.3604942728524822"
      ]
     },
     "execution_count": 44,
     "metadata": {},
     "output_type": "execute_result"
    }
   ],
   "source": []
  },
  {
   "cell_type": "code",
   "execution_count": null,
   "metadata": {},
   "outputs": [],
   "source": []
  }
 ],
 "metadata": {
  "interpreter": {
   "hash": "3fd498fd3bb063058b77bda127638628872f97615736190a434d9fc73ad00026"
  },
  "kernelspec": {
   "display_name": "Python 3.9.10 ('jupyter')",
   "language": "python",
   "name": "python3"
  },
  "language_info": {
   "codemirror_mode": {
    "name": "ipython",
    "version": 3
   },
   "file_extension": ".py",
   "mimetype": "text/x-python",
   "name": "python",
   "nbconvert_exporter": "python",
   "pygments_lexer": "ipython3",
   "version": "3.9.10"
  },
  "orig_nbformat": 4
 },
 "nbformat": 4,
 "nbformat_minor": 2
}
