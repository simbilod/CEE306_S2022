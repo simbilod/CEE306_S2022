{
 "cells": [
  {
   "cell_type": "markdown",
   "metadata": {},
   "source": [
    "# Recap of the vanilla `python`"
   ]
  },
  {
   "cell_type": "code",
   "execution_count": null,
   "metadata": {},
   "outputs": [],
   "source": [
    "# importing external libraries\n",
    "import math\n",
    "\n",
    "# can do all kinds of math inline\n",
    "943.0 + (8**2 + 2 / (3 * math.sqrt(2)))\n",
    "#                        ---------\n",
    "#                            ↑\n",
    "#                    built-in math functions\n",
    "\n",
    "# ============================================================\n",
    "\n",
    "# use of variables a is a list\n",
    "# ↓\n",
    "a = [6, 0, 2, 4, 5, 8, 9, 1, 2]\n",
    "#   ---------------------------\n",
    "#               ↑\n",
    "#         lists of values\n",
    "\n",
    "# index\n",
    "# ↓\n",
    "a[4] == 5\n",
    "\n",
    "# ============================================================\n",
    "\n",
    "# dictionaries\n",
    "foo = {\n",
    "# key: value\n",
    "  \"a\": 1,\n",
    "  \"b\": 2,\n",
    "  \"c\": 3\n",
    "}\n",
    "# can also be done this way:\n",
    "# foo = dict(a = 1, b = 2, c = 3)\n",
    "\n",
    "# now access:\n",
    "foo['a']\n",
    "\n",
    "# ============================================================\n",
    "\n",
    "# loops\n",
    "for i in range(-20, 20):\n",
    "#        --------------\n",
    "#              ↑\n",
    "#       any list can go here\n",
    "  print (math.sqrt(i * i) == i)   # QUESTION: what's the result of this?\n",
    "\n",
    "# ============================================================\n",
    "\n",
    "# conditional statements\n",
    "if (len(a) > 2):\n",
    "#   ---\n",
    "#    ↑\n",
    "#  take the length of the list\n",
    "  print (\"nah, the list is too long\")\n",
    "else:\n",
    "  print (\"nice\")\n",
    "\n",
    "# ============================================================\n",
    "\n",
    "# functions\n",
    "def divide(a, b):\n",
    "#          ----\n",
    "#           ↑\n",
    "#       arguments\n",
    "  if (b != 0):\n",
    "    return a / b\n",
    "  else:\n",
    "    return None\n",
    "\n",
    "c = divide(-23.0, 43.0)\n",
    "# c is -0.534883720930233\n",
    "\n",
    "d = divide(1, 0)\n",
    "# d is None"
   ]
  },
  {
   "cell_type": "markdown",
   "metadata": {},
   "source": [
    "# Motivation behind `numpy`"
   ]
  },
  {
   "cell_type": "markdown",
   "metadata": {},
   "source": [
    "### Operations with vectors\n",
    "> so you said python is intuitive, right?"
   ]
  },
  {
   "cell_type": "code",
   "execution_count": null,
   "metadata": {},
   "outputs": [],
   "source": [
    "42 + 95"
   ]
  },
  {
   "cell_type": "code",
   "execution_count": null,
   "metadata": {},
   "outputs": [],
   "source": [
    "\"foo\" + \"bar\""
   ]
  },
  {
   "cell_type": "markdown",
   "metadata": {},
   "source": [
    "#### operations with vectors (arrays) in vanilla `python`"
   ]
  },
  {
   "cell_type": "code",
   "execution_count": null,
   "metadata": {},
   "outputs": [],
   "source": [
    "[1, 2, 3] + [2, 3, 4]"
   ]
  },
  {
   "cell_type": "code",
   "execution_count": null,
   "metadata": {},
   "outputs": [],
   "source": [
    "[2, 3, 4] * 42"
   ]
  },
  {
   "cell_type": "code",
   "execution_count": null,
   "metadata": {},
   "outputs": [],
   "source": [
    "[34, 31, 32] + 2"
   ]
  },
  {
   "cell_type": "code",
   "execution_count": null,
   "metadata": {},
   "outputs": [],
   "source": [
    "[54, 34, 20]**2"
   ]
  },
  {
   "cell_type": "code",
   "execution_count": null,
   "metadata": {},
   "outputs": [],
   "source": [
    "# take some algebraic operation\n",
    "def pleaseDoSomethingUseful(x):\n",
    "  return x / (1 + x / (1 + x / (1 + x / (1 + x / (1 + x / (1 + x))))))"
   ]
  },
  {
   "cell_type": "markdown",
   "metadata": {},
   "source": [
    "I want to get the result of this function applied to every single element of the list\n",
    "\n",
    "  `list (in)` -> `pleaseDoSomethingUseful` -> `list (out)`\n",
    "\n",
    "  `[a1, a2, a3, a4, a5]` -> `[f(a1), f(a2), f(a3), f(a4), f(a5)]`\n",
    "  \n",
    "a/k/a function mapping"
   ]
  },
  {
   "cell_type": "code",
   "execution_count": null,
   "metadata": {},
   "outputs": [],
   "source": [
    "pleaseDoSomethingUseful([54, 34, 20, 23, 4, 521, 231, 23])"
   ]
  },
  {
   "cell_type": "code",
   "execution_count": null,
   "metadata": {},
   "outputs": [],
   "source": [
    "# * in practice you can map a function if you want to\n",
    "list(map(pleaseDoSomethingUseful, [54, 34, 20, 23, 4, 521, 231, 23]))"
   ]
  },
  {
   "cell_type": "markdown",
   "metadata": {},
   "source": [
    "To be clear this is also not possible in some of the lower level programming languages:\n",
    "\n",
    "```c++\n",
    "/*\n",
    " * example C++ code\n",
    " */\n",
    "\n",
    "[23, 34, 54] + 2;       // <-- # compile error\n",
    "\n",
    "void func(int a) {      // <-- function \"expects\" a single 4-byte integer\n",
    "  // ...\n",
    "}\n",
    "\n",
    "func([2, 3, 4]);        // <-- # compile error\n",
    "```"
   ]
  },
  {
   "cell_type": "markdown",
   "metadata": {},
   "source": [
    "But you said `python` is **not** like `c/c++`, that `python` is intuitive and all..."
   ]
  },
  {
   "cell_type": "markdown",
   "metadata": {},
   "source": [
    "![just no](https://static.wikia.nocookie.net/5586dcfa-2630-4a57-a5d3-3ab995aede6b \"just no\")\n"
   ]
  },
  {
   "cell_type": "markdown",
   "metadata": {},
   "source": [
    "## My dream `python`\n",
    "\n",
    "Wouldn't it be nice to simplify vector operations?\n",
    "\n",
    "$$\n",
    "[a_1, ~a_2, ~a_3] + [b_1, ~b_2, ~b_3] ~ = ~ ?\n",
    "$$\n",
    "\n",
    "or be able to solve systems of linear equations thinking in terms of vectors and matrices?\n",
    "\n",
    "> this happens quite often in applications like data analysis, machine learning, solving differential equations etc\n",
    "\n",
    "$$\n",
    "\\begin{bmatrix}\n",
    "a_{11} & a_{12} & a_{13} & \\dots & a_{1n} \\\\\n",
    "    a_{21} & a_{22} & a_{23} & \\dots & a_{2n} \\\\\n",
    "    \\vdots & \\vdots & \\vdots & \\ddots & \\vdots  \\\\\n",
    "    a_{m1} & a_{m2} & a_{m3} & \\dots & a_{mn}\n",
    "\\end{bmatrix}\\cdot\n",
    "\\begin{bmatrix}\n",
    "x_{1} \\\\\n",
    "    x_{2} \\\\\n",
    "    \\vdots \\\\\n",
    "    x_{n} \\\\\n",
    "    \\end{bmatrix}\n",
    "=\n",
    "\\begin{bmatrix}\n",
    "b_{1} \\\\\n",
    "    b_{2} \\\\\n",
    "    \\vdots \\\\\n",
    "    b_{n} \\\\\n",
    "    \\end{bmatrix}\n",
    "$$\n"
   ]
  },
  {
   "cell_type": "markdown",
   "metadata": {},
   "source": [
    "# `numpy` saves the day\n",
    "\n",
    "#### *disclaimer: `numpy` module is so much more than just what will (can) be discussed here*"
   ]
  },
  {
   "cell_type": "code",
   "execution_count": null,
   "metadata": {},
   "outputs": [],
   "source": [
    "# there are two kinds of people:\n",
    "import numpy as np\n",
    "# vs\n",
    "# import numpy"
   ]
  },
  {
   "cell_type": "markdown",
   "metadata": {},
   "source": [
    "`np.array` instead of vanilla lists"
   ]
  },
  {
   "cell_type": "code",
   "execution_count": null,
   "metadata": {},
   "outputs": [],
   "source": [
    "np.array([1, 2, 3]) + np.array([2, 3, 4])"
   ]
  },
  {
   "cell_type": "code",
   "execution_count": null,
   "metadata": {},
   "outputs": [],
   "source": [
    "np.array([2, 3, 4]) * 42"
   ]
  },
  {
   "cell_type": "code",
   "execution_count": null,
   "metadata": {},
   "outputs": [],
   "source": [
    "np.array([34, 31, 32]) + 2"
   ]
  },
  {
   "cell_type": "code",
   "execution_count": null,
   "metadata": {},
   "outputs": [],
   "source": [
    "np.array([54, 34, 20])**2"
   ]
  },
  {
   "cell_type": "code",
   "execution_count": null,
   "metadata": {},
   "outputs": [],
   "source": [
    "def pleaseDoSomethingUseful(x):\n",
    "  return x / (1 + x / (1 + x / (1 + x / (1 + x / (1 + x / (1 + x))))))\n",
    "\n",
    "pleaseDoSomethingUseful(np.array([54, 34, 20, 23, 4, 521, 231, 23]))"
   ]
  },
  {
   "cell_type": "markdown",
   "metadata": {},
   "source": [
    "lists vs `numpy` arrays"
   ]
  },
  {
   "cell_type": "code",
   "execution_count": null,
   "metadata": {},
   "outputs": [],
   "source": [
    "def foo():\n",
    "  return 1\n",
    "#          text                   dictionary\n",
    "#           ↓                        ↓\n",
    "#        -------              ----------------\n",
    "[foo, 2, \"dasda\", [3, 45, 4], {'a': 1, 'b': 2}]    # <- this is a list (it can store any type of data)\n",
    "#---  -           ----------\n",
    "# ↑   ↑               ↑\n",
    "# |   number          |\n",
    "# function          list"
   ]
  },
  {
   "cell_type": "code",
   "execution_count": null,
   "metadata": {},
   "outputs": [],
   "source": [
    "np.array([foo, 2, \"dasda\", [3, 45, 4], {'a': 1, 'b': 2}])    # <- this is a numpy array (and it doesn't appreciate diverse data types)\n",
    "\n",
    "# you can do this in theory (but, please, don't do it)"
   ]
  },
  {
   "cell_type": "code",
   "execution_count": null,
   "metadata": {},
   "outputs": [],
   "source": [
    "# two-dimensional list (with uneven rows):\n",
    "[[1, 2, 3], [4, 5, 6, 7, 8], [\"foo\", \"bar\"], 123.3]"
   ]
  },
  {
   "cell_type": "code",
   "execution_count": null,
   "metadata": {},
   "outputs": [],
   "source": [
    "np.array([[1, 2, 3], [4, 5, 6, 7, 8], [3, 4], 453])   # <- not going to work as expected\n"
   ]
  },
  {
   "cell_type": "markdown",
   "metadata": {},
   "source": [
    "instead `numpy` arrays are designed to work on uniform data types"
   ]
  },
  {
   "cell_type": "code",
   "execution_count": null,
   "metadata": {},
   "outputs": [],
   "source": [
    "# everything coverted into 64-bit float:\n",
    "print(\n",
    "  np.array([1.5, 3.4, 7.5, 1, 95, 102.4])\n",
    ")\n",
    "\n",
    "print(\n",
    "  np.array([1.5, 3.4, 7.5, 1, 95, 102.4]).dtype\n",
    ")"
   ]
  },
  {
   "cell_type": "code",
   "execution_count": null,
   "metadata": {},
   "outputs": [],
   "source": [
    "# everything coverted into 64-bit integer\n",
    "print (\n",
    "  np.array([1.5, 3.4, 7.5, 1, 95, 102.4], dtype='int')\n",
    ")\n",
    "\n",
    "# everything coverted into text:\n",
    "print (\n",
    "  np.array([1.5, 3.4, 7.5, 1, 95, 102.4], dtype='str')\n",
    ")\n"
   ]
  },
  {
   "cell_type": "markdown",
   "metadata": {},
   "source": [
    "index tricks with `numpy` arrays are similar to those with the lists"
   ]
  },
  {
   "cell_type": "code",
   "execution_count": null,
   "metadata": {},
   "outputs": [],
   "source": [
    "my_lovely_array = np.array([1, 2, 3, 4, 5, 6, 7, 8, 9, 10, 11, 12, 13])\n",
    "\n",
    "print(\n",
    "    my_lovely_array\n",
    ")\n",
    "\n",
    "print(\n",
    "    # skip the first 2 elements:\n",
    "    my_lovely_array[2:]\n",
    ")\n",
    "\n",
    "print(\n",
    "    # take only the last element:\n",
    "    my_lovely_array[-1]\n",
    ")\n",
    "\n",
    "print(\n",
    "    # skip the last 4 elements:\n",
    "    my_lovely_array[:-4]\n",
    ")                 # ↑ this is the same as [0:-4]\n",
    "\n",
    "print(\n",
    "    # skip the first 2 elements and take the next 4:\n",
    "    my_lovely_array[2:6]\n",
    ")\n",
    "\n",
    "print(\n",
    "    # skip the first element and take every 3rd element:\n",
    "    my_lovely_array[1::3]\n",
    ")\n",
    "\n",
    "print(\n",
    "    # reverse the array (QUESTION TO THE AUDIENCE)\n",
    "    # my_lovely_array[???]\n",
    ")\n"
   ]
  },
  {
   "cell_type": "markdown",
   "metadata": {},
   "source": [
    "## Fun things to do with `numpy`\n",
    "### *f.u.f. = frequently used functionale*\n",
    "> 90% of the time you will be using ~5-10% of what `numpy` can offer"
   ]
  },
  {
   "cell_type": "markdown",
   "metadata": {},
   "source": [
    "* array masking"
   ]
  },
  {
   "cell_type": "code",
   "execution_count": null,
   "metadata": {},
   "outputs": [],
   "source": [
    "A = np.array([1, 2, 3, 4, 5, 6, 7, 8, 9, 10, 11, 12, 13])\n",
    "B = np.array([\"a\", \"b\", \"c\", \"d\", \"e\", \"f\", \"g\", \"h\", \"i\", \"j\", \"k\", \"l\", \"m\"])\n",
    "\n",
    "print(\n",
    "    # take all the values of A for which a (element of A) is > 10\n",
    "    A[A > 10]\n",
    ")\n",
    "\n",
    "print(\n",
    "    # take all the values of B for which b (element B) is equal to \"d\"\n",
    "    B[B != \"d\"]\n",
    ")\n",
    "\n",
    "print(\n",
    "    # take all the values of A for which the corresponding value of b (element B) is equal to \"j\"\n",
    "    A[B == \"j\"]\n",
    ")\n",
    "\n",
    "print(\n",
    "    A[(B == \"j\") | (A**2 == 9)]\n",
    ")"
   ]
  },
  {
   "cell_type": "markdown",
   "metadata": {},
   "source": [
    "* `np.where`"
   ]
  },
  {
   "cell_type": "code",
   "execution_count": null,
   "metadata": {},
   "outputs": [],
   "source": [
    "A = np.array([1, 2, 3, 4, 5, 6, 7, 8, 9, 10, 11, 12, 13])\n",
    "B = np.array([\"a\", \"b\", \"c\", \"d\", \"e\", \"f\", \"g\", \"h\", \"i\", \"j\", \"k\", \"l\", \"m\"])\n",
    "\n",
    "print (\n",
    "    # turns all the a-s (elements of A) into either a (if A < 5) or 0 (if A >= 5)\n",
    "    np.where(A < 5, A, 0)\n",
    "    # can also do (rewrites A):\n",
    "    #   A[A < 5] = 0\n",
    ")\n",
    "\n",
    "print (\n",
    "    # where a is even -- return the corresponding element of B, otherwise return \"-\"\n",
    "    np.where(A % 2 == 0, B, \"-\")\n",
    "    # could also do (rewrites B):\n",
    "    #   B[A % 2 != 0] = \"-\"\n",
    ")"
   ]
  },
  {
   "cell_type": "markdown",
   "metadata": {},
   "source": [
    "* make an array of **uniformly spaced** numbers within a given interval **with a given step**"
   ]
  },
  {
   "cell_type": "code",
   "execution_count": null,
   "metadata": {},
   "outputs": [],
   "source": [
    "print(\n",
    "    np.arange(100)\n",
    ")\n",
    "\n",
    "print(\n",
    "    np.arange(-5, 100)\n",
    ")\n",
    "\n",
    "print(\n",
    "    np.arange(-10.5, 10.5, 0.5)\n",
    ")\n",
    "\n",
    "print(\n",
    "    np.arange(100, 0, -1)\n",
    ")"
   ]
  },
  {
   "cell_type": "markdown",
   "metadata": {},
   "source": [
    "* make an array of **uniformly spaced** numbers within a given interval **of a given length (number of elements)**"
   ]
  },
  {
   "cell_type": "code",
   "execution_count": null,
   "metadata": {},
   "outputs": [],
   "source": [
    "print(\n",
    "    # interval is [0, 100) with 50 elements (default)\n",
    "    np.linspace(0, 100)\n",
    ")\n",
    "\n",
    "print(\n",
    "    # interval is [0, 2pi) with 500 elements\n",
    "    np.linspace(0, 2 * np.pi, 500)\n",
    ")"
   ]
  },
  {
   "cell_type": "markdown",
   "metadata": {},
   "source": [
    "* playing around with randomness"
   ]
  },
  {
   "cell_type": "code",
   "execution_count": null,
   "metadata": {},
   "outputs": [],
   "source": [
    "print(\n",
    "    # random integer from [0, 100]\n",
    "    np.random.randint(100)\n",
    ")\n",
    "print(\n",
    "    # random array with integers from [-10, 10]\n",
    "    np.random.randint(-10, 10, 100)\n",
    ")\n",
    "print(\n",
    "    # ??? (QUESTION TO THE AUDIENCE: what does this do?)\n",
    "    np.random.random(100)\n",
    "    # same as      : np.random.rand(100)\n",
    "    # can also be  : np.random.rand(4, 6)\n",
    ")\n",
    "# ??? (QUESTION TO THE AUDIENCE: how to generate any floating point number from, say, 0 to pi ?)\n"
   ]
  },
  {
   "cell_type": "code",
   "execution_count": null,
   "metadata": {},
   "outputs": [],
   "source": [
    "# getting help with `numpy`\n",
    "np.random.random?"
   ]
  },
  {
   "cell_type": "code",
   "execution_count": null,
   "metadata": {},
   "outputs": [],
   "source": [
    "cities = [\"Melborne\", \"New York\", \"London\", \"Paris\", \"Tokyo\", \"Sydney\"]\n",
    "\n",
    "print(\n",
    "    # make an array with random choices from the list\n",
    "    np.random.choice(cities, 100)\n",
    ")\n",
    "\n",
    "print(\n",
    "    # randomly shuffle the list\n",
    "    np.random.permutation(cities)\n",
    ")\n",
    "\n",
    "# there is a whole lot more in numpy random: https://numpy.org/doc/1.16/reference/routines.random.html"
   ]
  },
  {
   "cell_type": "markdown",
   "metadata": {},
   "source": [
    "* other useful functions"
   ]
  },
  {
   "cell_type": "code",
   "execution_count": null,
   "metadata": {},
   "outputs": [],
   "source": [
    "print(\n",
    "    np.zeros(100)            # array of 100 zeros\n",
    ")\n",
    "print(\n",
    "    np.zeros((10, 10))       # array of 10 x 10 zeros\n",
    ")"
   ]
  },
  {
   "cell_type": "code",
   "execution_count": null,
   "metadata": {},
   "outputs": [],
   "source": [
    "# + all the math functions are present: https://docs.scipy.org/doc/numpy/reference/routines.math.html\n",
    "# sin/cos, sqrt, floor/ceil, sum, prod, diff\n",
    "\n",
    "A = 10 * np.sin(np.linspace(-20, 20, 34))\n",
    "\n",
    "print(\n",
    "    A\n",
    ")\n",
    "\n",
    "print(\n",
    "    # find the max element\n",
    "    np.max(A)\n",
    ")\n",
    "\n",
    "print(\n",
    "    # find the index of the max element\n",
    "    np.argmax(A)\n",
    ")\n",
    "\n",
    "# sanity check\n",
    "i_max = np.argmax(A)\n",
    "print(\n",
    "    A[i_max]\n",
    ")\n"
   ]
  },
  {
   "cell_type": "code",
   "execution_count": null,
   "metadata": {},
   "outputs": [],
   "source": [
    "B = 10 * np.sin(np.linspace(-20, 20, 42).reshape(6, 7))\n",
    "# 6 x 7 array\n",
    "\n",
    "print (\n",
    "    \"shape:\", B.shape, \"\\n\",\n",
    "    \"B^2:\", B**2, \"\\n\",\n",
    "    \"max:\", np.max(B), \"\\n\",\n",
    "    \"sum:\", np.sum(B), \"\\n\",\n",
    "    \"mean:\", np.mean(B)\n",
    ")"
   ]
  },
  {
   "cell_type": "markdown",
   "metadata": {},
   "source": [
    "# Performance of `numpy` vs vanilla `python`"
   ]
  },
  {
   "cell_type": "code",
   "execution_count": null,
   "metadata": {},
   "outputs": [],
   "source": [
    "# vanilla python\n",
    "\n",
    "import math\n",
    "\n",
    "def vanillaPython():\n",
    "  C = range(10000)\n",
    "  for c in C:\n",
    "    math.sqrt(c)\n",
    "\n",
    "%timeit vanillaPython()"
   ]
  },
  {
   "cell_type": "code",
   "execution_count": null,
   "metadata": {},
   "outputs": [],
   "source": [
    "# numpy\n",
    "\n",
    "def numpyPython():\n",
    "  C = np.arange(10000)\n",
    "  np.sqrt(C)\n",
    "\n",
    "%timeit numpyPython()"
   ]
  },
  {
   "cell_type": "code",
   "execution_count": null,
   "metadata": {},
   "outputs": [],
   "source": [
    "%timeit np.sqrt(123.5)"
   ]
  },
  {
   "cell_type": "code",
   "execution_count": null,
   "metadata": {},
   "outputs": [],
   "source": [
    "%timeit math.sqrt(123.5)"
   ]
  },
  {
   "cell_type": "markdown",
   "metadata": {},
   "source": [
    "> `numpy` is implicitly vectorized!"
   ]
  },
  {
   "cell_type": "markdown",
   "metadata": {},
   "source": [
    "![](https://lappweb.in2p3.fr/~paubert/ASTERICS_HPC/images/vectorization.png)"
   ]
  },
  {
   "cell_type": "markdown",
   "metadata": {},
   "source": [
    "### *Punchline: prefer `numpy` on large datasets when possible vs regular for loops*"
   ]
  },
  {
   "cell_type": "code",
   "execution_count": null,
   "metadata": {},
   "outputs": [],
   "source": [
    "s = np.arange(1, N + 1)\n",
    "s = 1.0 / s**2\n",
    "s = np.sum(s)\n",
    "\n",
    "print(math.sqrt(s * 6))"
   ]
  },
  {
   "cell_type": "markdown",
   "metadata": {},
   "source": [
    "---\n",
    "\n",
    "Myth: `python` is slow.\n",
    "\n",
    "Fact: `python` is *mostly* slow, but only *because* it's so generic and can be easily misused. if used properly it can actually be (almost) as fast as C/C++/Fortran (trust me).\n",
    "\n",
    "Example: calculate the sum of $1/n^2$ for $n\\in(0; N]$\n",
    "\n",
    "```python\n",
    "N = int(1e6)\n",
    "\n",
    "# novice python (300 ms)\n",
    "s = 0\n",
    "for n in range(1, N + 1):\n",
    "  s += 1 / n**2\n",
    "  \n",
    "print (math.sqrt(s * 6))     # prints 3.1415916986604673\n",
    "\n",
    "# pro python (7 ms: 40x faster)\n",
    "s = np.arange(1, N + 1)\n",
    "s = 1.0 / s**2\n",
    "s = np.sum(s)\n",
    "\n",
    "print (math.sqrt(s * 6))     # prints 3.1415916986604673\n",
    "```\n",
    "\n",
    "(C code does this in 1 ms, see the attached `pi_c.c` file)\n",
    "\n",
    "---"
   ]
  },
  {
   "cell_type": "markdown",
   "metadata": {},
   "source": [
    "### examples of `numpy` performance test"
   ]
  },
  {
   "cell_type": "code",
   "execution_count": null,
   "metadata": {},
   "outputs": [],
   "source": [
    "def func_vanilla(A, B):\n",
    "  C = []\n",
    "  for a, b in zip(A, B):\n",
    "    C.append(a + b)\n",
    "  return C\n",
    "\n",
    "N = 1e6\n",
    "A = range(1, int(N) + 1)\n",
    "B = range(1, int(N) + 1)\n",
    "\n",
    "%timeit func_vanilla(A, B)"
   ]
  },
  {
   "cell_type": "code",
   "execution_count": null,
   "metadata": {},
   "outputs": [],
   "source": [
    "def func_numpy(A, B):\n",
    "  return A + B\n",
    "\n",
    "N = 1e6\n",
    "A = np.arange(1, int(N) + 1)\n",
    "B = np.arange(1, int(N) + 1)\n",
    "\n",
    "%timeit func_numpy(A, B)\n"
   ]
  },
  {
   "cell_type": "code",
   "execution_count": null,
   "metadata": {},
   "outputs": [],
   "source": [
    "def pi_vanilla(N):\n",
    "  s = 0\n",
    "  for n in range(1, int(N) + 1):\n",
    "    s += 1 / n**2\n",
    "  return (math.sqrt(s * 6))\n",
    "\n",
    "%timeit pi_vanilla(1e6)\n"
   ]
  },
  {
   "cell_type": "code",
   "execution_count": null,
   "metadata": {},
   "outputs": [],
   "source": [
    "def pi_numpy(N):\n",
    "  s = np.arange(1, int(N) + 1)\n",
    "  s = 1.0 / s**2\n",
    "  s = np.sum(s)\n",
    "\n",
    "%timeit pi_numpy(1e6)\n"
   ]
  },
  {
   "cell_type": "markdown",
   "metadata": {},
   "source": [
    "## `numpy` and other modules"
   ]
  },
  {
   "cell_type": "code",
   "execution_count": null,
   "metadata": {},
   "outputs": [],
   "source": [
    "import pandas as pd\n",
    "# pandas array is (almost) the same as numpy array"
   ]
  },
  {
   "cell_type": "markdown",
   "metadata": {},
   "source": [
    "> as a backend `pandas` almost certainly relies on `numpy` in its core"
   ]
  },
  {
   "cell_type": "code",
   "execution_count": null,
   "metadata": {},
   "outputs": [],
   "source": [
    "N = 100\n",
    "cities = [\"Melborne\", \"New York\", \"London\", \"Paris\", \"Tokyo\", \"Sydney\"]\n",
    "\n",
    "city_names = np.random.choice(cities, N)\n",
    "city_values = np.random.random(N)\n",
    "\n",
    "# converting numpy arrays to a dataframe\n",
    "df = pd.DataFrame({\n",
    "  \"name\": city_names,\n",
    "  \"value\": city_values\n",
    "})\n",
    "\n",
    "# show the first 5 rows\n",
    "df.head()"
   ]
  },
  {
   "cell_type": "code",
   "execution_count": null,
   "metadata": {},
   "outputs": [],
   "source": [
    "# can use the same functions as numpy\n",
    "print(\n",
    "    np.mean(df['value'])\n",
    ")\n",
    "\n",
    "print(\n",
    "    # compare with the output of just df['name']\n",
    "    np.unique(df['name'])\n",
    ")"
   ]
  }
 ],
 "metadata": {
  "interpreter": {
   "hash": "3fd498fd3bb063058b77bda127638628872f97615736190a434d9fc73ad00026"
  },
  "kernelspec": {
   "display_name": "Python 3.9.10 ('jupyter')",
   "language": "python",
   "name": "python3"
  },
  "language_info": {
   "codemirror_mode": {
    "name": "ipython",
    "version": 3
   },
   "file_extension": ".py",
   "mimetype": "text/x-python",
   "name": "python",
   "nbconvert_exporter": "python",
   "pygments_lexer": "ipython3",
   "version": "3.9.10"
  },
  "orig_nbformat": 4
 },
 "nbformat": 4,
 "nbformat_minor": 2
}
